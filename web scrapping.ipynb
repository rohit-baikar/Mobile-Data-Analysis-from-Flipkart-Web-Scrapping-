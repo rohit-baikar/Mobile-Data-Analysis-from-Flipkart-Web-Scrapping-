{
 "cells": [
  {
   "cell_type": "code",
   "execution_count": 1,
   "id": "fdd204af-beb1-4026-ab67-47116d9f2782",
   "metadata": {},
   "outputs": [],
   "source": [
    "import pandas as pd\n",
    "import requests\n",
    "from bs4 import BeautifulSoup"
   ]
  },
  {
   "cell_type": "code",
   "execution_count": 2,
   "id": "fc0544a4-7c61-4373-975b-e999554b7a4a",
   "metadata": {},
   "outputs": [],
   "source": [
    "#headers = {\n",
    "#    \"User-Agent\": \"Mozilla/5.0 (Windows NT 10.0; Win64; x64) AppleWebKit/537.36 (KHTML, like Gecko) Chrome/115.0 Safari/537.36\",\n",
    "#    \"Accept-Language\": \"en-US,en;q=0.9\",\n",
    "#    \"Connection\": \"keep-alive\",\n",
    "#}\n",
    "#url = 'https://www.airbnb.co.in/'\n",
    "#r = requests.get(url)\n",
    "#print(r)"
   ]
  },
  {
   "cell_type": "code",
   "execution_count": 3,
   "id": "726ef78a-44c4-46ad-9ff9-e5d18bffbbb7",
   "metadata": {},
   "outputs": [],
   "source": [
    "#soup = BeautifulSoup(r.text, \"html.parser\")\n",
    "#print(soup)"
   ]
  },
  {
   "cell_type": "code",
   "execution_count": 4,
   "id": "4ffef92b-1a2b-499d-a2e1-d9e9cf691c79",
   "metadata": {},
   "outputs": [],
   "source": [
    "#soup.find(class = \"t1jojoys atm_g3_1kw7nm4 atm_ks_15vqwwr atm_sq_1l2sidv atm_9s_cj1kg8 atm_6w_1e54zos atm_fy_1vgr820 atm_7l_jt7fhx atm_cs_10d11i2 atm_w4_1eetg7c atm_ks_zryt35__1rgatj2 dir dir-ltr\")"
   ]
  },
  {
   "cell_type": "code",
   "execution_count": 12,
   "id": "19477bb8-7815-48f7-b953-ab097957c136",
   "metadata": {},
   "outputs": [],
   "source": [
    "Product_Names = []\n",
    "Prices = []\n",
    "Ratings = []\n",
    "Description = []\n",
    "Off_Per = []"
   ]
  },
  {
   "cell_type": "code",
   "execution_count": 13,
   "id": "6e1d895b-145f-496d-88b5-fb7db20594c7",
   "metadata": {},
   "outputs": [],
   "source": [
    "#names = soup.find_all(\"div\", class_ = \"t1jojoys atm_g3_1kw7nm4 atm_ks_15vqwwr atm_sq_1l2sidv atm_9s_cj1kg8 atm_6w_1e54zos atm_fy_1vgr820 atm_7l_jt7fhx atm_cs_10d11i2 atm_w4_1eetg7c atm_ks_zryt35__1rgatj2 dir dir-ltr\")\n",
    "#print(names)\n",
    "#prices = soup.find_all(\"span\", class_ = \"_11jcbg2\")\n",
    "#print(prices)"
   ]
  },
  {
   "cell_type": "code",
   "execution_count": 27,
   "id": "2ccf2d95-ef38-4e0c-bcab-7461c11ed993",
   "metadata": {},
   "outputs": [
    {
     "name": "stdout",
     "output_type": "stream",
     "text": [
      "1896\n",
      "1896\n",
      "1896\n",
      "1920\n",
      "1920\n",
      "1920\n",
      "1944\n",
      "1944\n",
      "1944\n",
      "1968\n",
      "1968\n",
      "1968\n",
      "1992\n",
      "1992\n",
      "1992\n",
      "2016\n",
      "2016\n",
      "2016\n",
      "2040\n",
      "2040\n",
      "2040\n",
      "2064\n",
      "2064\n",
      "2064\n",
      "2088\n",
      "2088\n",
      "2088\n",
      "2112\n",
      "2112\n",
      "2112\n"
     ]
    }
   ],
   "source": [
    "#url = \"/mobiles/pr?sid=tyy%2C4io&amp;p%5B%5D=facets.brand%255B%255D%3DMOTOROLA&amp;param=19873&amp;ctx=eyJjYXJkQ29udGV4dCI6eyJhdHRyaWJ1dGVzIjp7InRpdGxlIjp7Im11bHRpVmFsdWVkQXR0cmlidXRlIjp7ImtleSI6InRpdGxlIiwiaW5mZXJlbmNlVHlwZSI6IlRJVExFIiwidmFsdWVzIjpbIk1vdG9yb2xhIHNtYXJ0cGhvbmVzIl0sInZhbHVlVHlwZSI6Ik1VTFRJX1ZBTFVFRCJ9fX19fQ%3D%3D&amp;wid=12.productCard.PMU_V2_11&amp;page=1\"\n",
    "#url = \"https://www.flipkart.com/mobiles/pr?sid=tyy%2C4io&p%5B%5D=facets.brand%255B%255D%3DMOTOROLA&param=19873&ctx=eyJjYXJkQ29udGV4dCI6eyJhdHRyaWJ1dGVzIjp7InRpdGxlIjp7Im11bHRpVmFsdWVkQXR0cmlidXRlIjp7ImtleSI6InRpdGxlIiwiaW5mZXJlbmNlVHlwZSI6IlRJVExFIiwidmFsdWVzIjpbIk1vdG9yb2xhIHNtYXJ0cGhvbmVzIl0sInZhbHVlVHlwZSI6Ik1VTFRJX1ZBTFVFRCJ9fX19fQ%3D%3D&wid=12.productCard.PMU_V2_11\"\n",
    "headers = {\n",
    "    \"User-Agent\": \"Mozilla/5.0 (Windows NT 10.0; Win64; x64) AppleWebKit/537.36 (KHTML, like Gecko) Chrome/115.0 Safari/537.36\",\n",
    "    \"Accept-Language\": \"en-US,en;q=0.9\",\n",
    "    \"Connection\": \"keep-alive\",\n",
    "}\n",
    "for i in range(2, 12):\n",
    "    url = \"https://www.flipkart.com/mobiles/pr?sid=tyy%2C4io&p%5B%5D=facets.brand%255B%255D%3DMOTOROLA&param=19873&ctx=eyJjYXJkQ29udGV4dCI6eyJhdHRyaWJ1dGVzIjp7InRpdGxlIjp7Im11bHRpVmFsdWVkQXR0cmlidXRlIjp7ImtleSI6InRpdGxlIiwiaW5mZXJlbmNlVHlwZSI6IlRJVExFIiwidmFsdWVzIjpbIk1vdG9yb2xhIHNtYXJ0cGhvbmVzIl0sInZhbHVlVHlwZSI6Ik1VTFRJX1ZBTFVFRCJ9fX19fQ%3D%3D&wid=12.productCard.PMU_V2_11&page=\"+str(i)\n",
    "    r = requests.get(url, headers=headers)\n",
    "    soup = BeautifulSoup(r.text, \"html.parser\")\n",
    "    box = soup.find(\"div\", class_ = \"DOjaWF gdgoEp\")\n",
    "    \n",
    "    #print(soup)\n",
    "    names = box.find_all(\"div\", class_=\"KzDlHZ\")\n",
    "    #print(names)\n",
    "    for i in names:\n",
    "        name = i.text\n",
    "        Product_Names.append(name)\n",
    "    #print(Product_Names)\n",
    "    print(len(Product_Names))\n",
    "    \n",
    "    price = box.find_all(\"div\", class_ = \"Nx9bqj _4b5DiR\")\n",
    "    for i in price:\n",
    "        p = i.text\n",
    "        Prices.append(p)\n",
    "    #print(Prices)\n",
    "    print(len(Prices))\n",
    "    \n",
    "    #rating = box.find_all(\"div\", class_ = \"XQDdHH\")\n",
    "    #for i in rating:\n",
    "    #    rat = i.text\n",
    "    #   Ratings.append(rat)\n",
    "    #print(Ratings)\n",
    "    #print(len(Ratings))\n",
    "    \n",
    "    desc = box.find_all(\"ul\", class_ = \"G4BRas\")\n",
    "    for i in desc:\n",
    "        de = i.text\n",
    "        Description.append(de)\n",
    "    #print(Description)\n",
    "    print(len(Description))\n",
    "\n",
    "    #off = box.find_all(\"div\", class_ = \"UkUFwK\")\n",
    "    #for i in off:\n",
    "    #    offper = i.text\n",
    "    #    Off_Per.append(offper)\n",
    "    #print(len(Off_Per))\n",
    "\n",
    "df = pd.DataFrame({\"Product Name\":Product_Names, \"Prices\":Prices, \"Description\": Description})\n",
    "#print(df)\n",
    "\n",
    "df.to_csv(\"FlipKart_Data.csv\")\n",
    "    #np = soup.find(\"a\", class_ = \"_9QVEpD\").get(\"href\")\n",
    "    #cnp = \"https://www.flipkart.com\"+np\n",
    "    #print(cnp)"
   ]
  },
  {
   "cell_type": "code",
   "execution_count": null,
   "id": "755ed377-6912-46f5-93f2-082fac208cc7",
   "metadata": {},
   "outputs": [],
   "source": []
  },
  {
   "cell_type": "code",
   "execution_count": null,
   "id": "486829db-535d-4867-9561-13bea7cd3b39",
   "metadata": {},
   "outputs": [],
   "source": []
  }
 ],
 "metadata": {
  "kernelspec": {
   "display_name": "Python 3 (ipykernel)",
   "language": "python",
   "name": "python3"
  },
  "language_info": {
   "codemirror_mode": {
    "name": "ipython",
    "version": 3
   },
   "file_extension": ".py",
   "mimetype": "text/x-python",
   "name": "python",
   "nbconvert_exporter": "python",
   "pygments_lexer": "ipython3",
   "version": "3.11.3"
  }
 },
 "nbformat": 4,
 "nbformat_minor": 5
}
